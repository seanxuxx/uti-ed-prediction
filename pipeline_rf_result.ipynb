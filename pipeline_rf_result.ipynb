{
 "cells": [
  {
   "cell_type": "code",
   "execution_count": 2,
   "metadata": {},
   "outputs": [],
   "source": [
    "import os\n",
    "import pickle\n",
    "\n",
    "import numpy as np\n",
    "import pandas as pd\n",
    "\n",
    "# preprocessing\n",
    "from sklearn.preprocessing import (LabelEncoder, OneHotEncoder, OrdinalEncoder,\n",
    "                                   StandardScaler, MinMaxScaler)\n",
    "from sklearn.decomposition import PCA\n",
    "from sklearn.compose import ColumnTransformer\n",
    "\n",
    "\n",
    "# models\n",
    "from sklearn.pipeline import Pipeline, make_pipeline\n",
    "from sklearn.linear_model import LogisticRegression\n",
    "from sklearn.naive_bayes import GaussianNB\n",
    "from sklearn.neighbors import KNeighborsClassifier\n",
    "from sklearn.svm import SVC\n",
    "from sklearn.ensemble import RandomForestClassifier\n",
    "from sklearn.neural_network import MLPClassifier\n",
    "from lightgbm import LGBMClassifier\n",
    "\n",
    "# finetuning\n",
    "from sklearn.model_selection import GridSearchCV, train_test_split, RandomizedSearchCV\n",
    "\n",
    "# evaluation metrics\n",
    "from sklearn.metrics import (accuracy_score, classification_report,\n",
    "                             confusion_matrix, f1_score, precision_score,\n",
    "                             recall_score)\n"
   ]
  },
  {
   "cell_type": "code",
   "execution_count": 3,
   "metadata": {},
   "outputs": [],
   "source": [
    "data_filename = os.path.join(os.getcwd(), 'data', 'S1File.csv')\n",
    "metadata_filename = os.path.join(os.getcwd(), 'data', 'metadata.csv')"
   ]
  },
  {
   "cell_type": "code",
   "execution_count": 4,
   "metadata": {},
   "outputs": [],
   "source": [
    "df = pd.read_csv(data_filename)\n",
    "metadata = pd.read_csv(metadata_filename)"
   ]
  },
  {
   "cell_type": "code",
   "execution_count": 5,
   "metadata": {},
   "outputs": [],
   "source": [
    "features = metadata.variable.to_list()\n",
    "label = 'UCX_abnormal'  # UCX test result\n",
    "diagnosis = 'UTI_diag'  # ED diagnosis\n",
    "\n",
    "# Map UCX and clinical diagnosis to int\n",
    "df[label] = df[label].map({'yes': 1, 'no': 0})\n",
    "df[diagnosis] = df[diagnosis].map({'Yes': 1, 'No': 0})\n",
    "\n",
    "# Reorder columns\n",
    "df = df[[label] + [diagnosis] + features]"
   ]
  },
  {
   "cell_type": "markdown",
   "metadata": {},
   "source": [
    "# Data Preprocessing\n"
   ]
  },
  {
   "cell_type": "code",
   "execution_count": 6,
   "metadata": {},
   "outputs": [],
   "source": [
    "def trim_missing(df: pd.DataFrame) -> pd.DataFrame:\n",
    "    \"\"\"\n",
    "    First, drop the columns with not_reported values > 10%\n",
    "    Then, drop observations with not_reported or other values\n",
    "    return cleaned dataframe\n",
    "    \"\"\"\n",
    "    # Drop the columns with not_reported values > 10%\n",
    "    drop = []\n",
    "    demo = ['age', 'gender', 'race', 'ethnicity', 'lang',\n",
    "            'employStatus', 'maritalStatus', 'chief_complaint']\n",
    "    cols = [i for i in df.columns if i not in demo]\n",
    "    for col in cols:\n",
    "        ratio = df[col][df[col] == 'not_reported'].count()/df.shape[0]*100\n",
    "        if ratio > 0.1:\n",
    "            drop.append(col)\n",
    "    df = df.drop(labels=drop, axis=1)\n",
    "\n",
    "    # Drop observations with not_reported or other values\n",
    "    df= df[~df.apply(lambda row: row =='not_reported').any(axis=1)]\n",
    "    df= df[~df.apply(lambda row: row =='other').any(axis=1)]\n",
    "    df= df[~df.apply(lambda row: row =='4+').any(axis=1)]\n",
    "\n",
    "    # Convert numeric features to float\n",
    "    num = ['ua_ph', 'ua_spec_grav', 'age']\n",
    "    for col in num:\n",
    "        mean = df[(df[col] != 'not_reported') & (df[col]!= 'other')][col].astype(\n",
    "            'float').mean()\n",
    "        df[col] = df[col].replace('not_reported', mean)\n",
    "        df[col] = df[col].astype(float)\n",
    "\n",
    "    return df"
   ]
  },
  {
   "cell_type": "code",
   "execution_count": 7,
   "metadata": {},
   "outputs": [],
   "source": [
    "def encode_features(df: pd.DataFrame) -> tuple[pd.DataFrame, ColumnTransformer]:\n",
    "    \"\"\"\n",
    "    Input the cleaned dataframe,\n",
    "    OneHotEncode the categorical (non-ordinal) attributes,\n",
    "    OrdinalEncode the ordinal attributes\n",
    "    return the final dataframe\n",
    "    \"\"\"\n",
    "\n",
    "    other = ['ua_ph', 'ua_spec_grav', 'age']\n",
    "    ord = ['ua_blood', 'ua_glucose', 'ua_ketones', 'ua_leuk', 'ua_protein']\n",
    "    onehot = ['chief_complaint', 'race', 'ethnicity',\n",
    "              'maritalStatus', 'employStatus']\n",
    "    label = [i for i in df.columns if i not in ord+other+onehot]\n",
    "\n",
    "    preprocessor = ColumnTransformer(\n",
    "        transformers=[\n",
    "            ('onehot', OneHotEncoder(), onehot),\n",
    "            ('label', OrdinalEncoder(), label),\n",
    "            ('ordinal', OrdinalEncoder(categories=[\n",
    "             ['negative', 'small', 'moderate', 'large']]* len(ord)), ord)\n",
    "        ])\n",
    "\n",
    "    transformed = preprocessor.fit_transform(df)\n",
    "\n",
    "    onehot_col_names = preprocessor.named_transformers_[\n",
    "        'onehot'].get_feature_names_out(onehot)\n",
    "    new_column_names = list(onehot_col_names) + label + ord\n",
    "    # Preserve the original index\n",
    "    df_transformed = pd.DataFrame(\n",
    "        transformed, columns=new_column_names, index=df.index)  # type: ignore\n",
    "\n",
    "    df_final = pd.concat([df[other], df_transformed], axis=1)\n",
    "\n",
    "    return df_final, preprocessor"
   ]
  },
  {
   "cell_type": "code",
   "execution_count": 8,
   "metadata": {},
   "outputs": [
    {
     "data": {
      "text/html": [
       "<div>\n",
       "<style scoped>\n",
       "    .dataframe tbody tr th:only-of-type {\n",
       "        vertical-align: middle;\n",
       "    }\n",
       "\n",
       "    .dataframe tbody tr th {\n",
       "        vertical-align: top;\n",
       "    }\n",
       "\n",
       "    .dataframe thead th {\n",
       "        text-align: right;\n",
       "    }\n",
       "</style>\n",
       "<table border=\"1\" class=\"dataframe\">\n",
       "  <thead>\n",
       "    <tr style=\"text-align: right;\">\n",
       "      <th></th>\n",
       "      <th>UCX_abnormal</th>\n",
       "      <th>UTI_diag</th>\n",
       "      <th>ua_blood</th>\n",
       "      <th>ua_color</th>\n",
       "      <th>ua_glucose</th>\n",
       "      <th>ua_ketones</th>\n",
       "      <th>ua_leuk</th>\n",
       "      <th>ua_nitrite</th>\n",
       "      <th>ua_ph</th>\n",
       "      <th>ua_protein</th>\n",
       "      <th>...</th>\n",
       "      <th>MISCELLANEOUS_MEDICAL_SUPPLIES__DEVICES__NON_DRUG</th>\n",
       "      <th>MUSCLE_RELAXANTS</th>\n",
       "      <th>PRE_NATAL_VITAMINS</th>\n",
       "      <th>PSYCHOTHERAPEUTIC_DRUGS</th>\n",
       "      <th>SEDATIVE_HYPNOTICS</th>\n",
       "      <th>SKIN_PREPS</th>\n",
       "      <th>SMOKING_DETERRENTS</th>\n",
       "      <th>THYROID_PREPS</th>\n",
       "      <th>UNCLASSIFIED_DRUG_PRODUCTS</th>\n",
       "      <th>VITAMINS</th>\n",
       "    </tr>\n",
       "  </thead>\n",
       "  <tbody>\n",
       "    <tr>\n",
       "      <th>0</th>\n",
       "      <td>1</td>\n",
       "      <td>1</td>\n",
       "      <td>negative</td>\n",
       "      <td>yellow</td>\n",
       "      <td>negative</td>\n",
       "      <td>negative</td>\n",
       "      <td>small</td>\n",
       "      <td>negative</td>\n",
       "      <td>7.5</td>\n",
       "      <td>negative</td>\n",
       "      <td>...</td>\n",
       "      <td>No</td>\n",
       "      <td>No</td>\n",
       "      <td>No</td>\n",
       "      <td>No</td>\n",
       "      <td>No</td>\n",
       "      <td>No</td>\n",
       "      <td>No</td>\n",
       "      <td>No</td>\n",
       "      <td>No</td>\n",
       "      <td>No</td>\n",
       "    </tr>\n",
       "    <tr>\n",
       "      <th>2</th>\n",
       "      <td>1</td>\n",
       "      <td>0</td>\n",
       "      <td>negative</td>\n",
       "      <td>yellow</td>\n",
       "      <td>negative</td>\n",
       "      <td>negative</td>\n",
       "      <td>small</td>\n",
       "      <td>negative</td>\n",
       "      <td>5.0</td>\n",
       "      <td>small</td>\n",
       "      <td>...</td>\n",
       "      <td>No</td>\n",
       "      <td>No</td>\n",
       "      <td>No</td>\n",
       "      <td>Yes</td>\n",
       "      <td>Yes</td>\n",
       "      <td>No</td>\n",
       "      <td>No</td>\n",
       "      <td>Yes</td>\n",
       "      <td>Yes</td>\n",
       "      <td>No</td>\n",
       "    </tr>\n",
       "    <tr>\n",
       "      <th>3</th>\n",
       "      <td>1</td>\n",
       "      <td>1</td>\n",
       "      <td>negative</td>\n",
       "      <td>yellow</td>\n",
       "      <td>negative</td>\n",
       "      <td>negative</td>\n",
       "      <td>large</td>\n",
       "      <td>negative</td>\n",
       "      <td>5.5</td>\n",
       "      <td>small</td>\n",
       "      <td>...</td>\n",
       "      <td>No</td>\n",
       "      <td>No</td>\n",
       "      <td>No</td>\n",
       "      <td>No</td>\n",
       "      <td>No</td>\n",
       "      <td>No</td>\n",
       "      <td>No</td>\n",
       "      <td>No</td>\n",
       "      <td>No</td>\n",
       "      <td>Yes</td>\n",
       "    </tr>\n",
       "    <tr>\n",
       "      <th>4</th>\n",
       "      <td>0</td>\n",
       "      <td>0</td>\n",
       "      <td>negative</td>\n",
       "      <td>orange</td>\n",
       "      <td>negative</td>\n",
       "      <td>small</td>\n",
       "      <td>small</td>\n",
       "      <td>positive</td>\n",
       "      <td>6.0</td>\n",
       "      <td>moderate</td>\n",
       "      <td>...</td>\n",
       "      <td>No</td>\n",
       "      <td>No</td>\n",
       "      <td>No</td>\n",
       "      <td>No</td>\n",
       "      <td>No</td>\n",
       "      <td>No</td>\n",
       "      <td>No</td>\n",
       "      <td>No</td>\n",
       "      <td>No</td>\n",
       "      <td>No</td>\n",
       "    </tr>\n",
       "    <tr>\n",
       "      <th>5</th>\n",
       "      <td>1</td>\n",
       "      <td>0</td>\n",
       "      <td>large</td>\n",
       "      <td>yellow</td>\n",
       "      <td>negative</td>\n",
       "      <td>large</td>\n",
       "      <td>small</td>\n",
       "      <td>negative</td>\n",
       "      <td>6.0</td>\n",
       "      <td>small</td>\n",
       "      <td>...</td>\n",
       "      <td>No</td>\n",
       "      <td>No</td>\n",
       "      <td>No</td>\n",
       "      <td>No</td>\n",
       "      <td>No</td>\n",
       "      <td>No</td>\n",
       "      <td>No</td>\n",
       "      <td>No</td>\n",
       "      <td>No</td>\n",
       "      <td>No</td>\n",
       "    </tr>\n",
       "  </tbody>\n",
       "</table>\n",
       "<p>5 rows × 107 columns</p>\n",
       "</div>"
      ],
      "text/plain": [
       "   UCX_abnormal  UTI_diag  ua_blood ua_color ua_glucose ua_ketones ua_leuk  \\\n",
       "0             1         1  negative   yellow   negative   negative   small   \n",
       "2             1         0  negative   yellow   negative   negative   small   \n",
       "3             1         1  negative   yellow   negative   negative   large   \n",
       "4             0         0  negative   orange   negative      small   small   \n",
       "5             1         0     large   yellow   negative      large   small   \n",
       "\n",
       "  ua_nitrite  ua_ph ua_protein  ...  \\\n",
       "0   negative    7.5   negative  ...   \n",
       "2   negative    5.0      small  ...   \n",
       "3   negative    5.5      small  ...   \n",
       "4   positive    6.0   moderate  ...   \n",
       "5   negative    6.0      small  ...   \n",
       "\n",
       "   MISCELLANEOUS_MEDICAL_SUPPLIES__DEVICES__NON_DRUG MUSCLE_RELAXANTS  \\\n",
       "0                                                 No               No   \n",
       "2                                                 No               No   \n",
       "3                                                 No               No   \n",
       "4                                                 No               No   \n",
       "5                                                 No               No   \n",
       "\n",
       "   PRE_NATAL_VITAMINS PSYCHOTHERAPEUTIC_DRUGS SEDATIVE_HYPNOTICS SKIN_PREPS  \\\n",
       "0                  No                      No                 No         No   \n",
       "2                  No                     Yes                Yes         No   \n",
       "3                  No                      No                 No         No   \n",
       "4                  No                      No                 No         No   \n",
       "5                  No                      No                 No         No   \n",
       "\n",
       "  SMOKING_DETERRENTS THYROID_PREPS UNCLASSIFIED_DRUG_PRODUCTS VITAMINS  \n",
       "0                 No            No                         No       No  \n",
       "2                 No           Yes                        Yes       No  \n",
       "3                 No            No                         No      Yes  \n",
       "4                 No            No                         No       No  \n",
       "5                 No            No                         No       No  \n",
       "\n",
       "[5 rows x 107 columns]"
      ]
     },
     "execution_count": 8,
     "metadata": {},
     "output_type": "execute_result"
    }
   ],
   "source": [
    "df_cleaned = trim_missing(df)\n",
    "df_cleaned.head()"
   ]
  },
  {
   "cell_type": "code",
   "execution_count": 9,
   "metadata": {},
   "outputs": [
    {
     "name": "stdout",
     "output_type": "stream",
     "text": [
      "Feature X shape: (59792, 153)\n",
      "Label Y shape: (59792, 2), where\n",
      "\tthe first column is true label (UCX_abnormal)\n",
      "\tthe second column is ed diagnosis (UTI_diag)\n"
     ]
    }
   ],
   "source": [
    "X, encoder = encode_features(df_cleaned.iloc[:, 2:])\n",
    "Y = df_cleaned.iloc[:, :2]\n",
    "print(f'Feature X shape: {X.shape}')\n",
    "print(f'Label Y shape: {Y.shape}, where'\n",
    "      f'\\n\\tthe first column is true label ({label})'\n",
    "      f'\\n\\tthe second column is ed diagnosis ({diagnosis})')"
   ]
  },
  {
   "cell_type": "code",
   "execution_count": 10,
   "metadata": {},
   "outputs": [
    {
     "data": {
      "text/html": [
       "<div>\n",
       "<style scoped>\n",
       "    .dataframe tbody tr th:only-of-type {\n",
       "        vertical-align: middle;\n",
       "    }\n",
       "\n",
       "    .dataframe tbody tr th {\n",
       "        vertical-align: top;\n",
       "    }\n",
       "\n",
       "    .dataframe thead th {\n",
       "        text-align: right;\n",
       "    }\n",
       "</style>\n",
       "<table border=\"1\" class=\"dataframe\">\n",
       "  <thead>\n",
       "    <tr style=\"text-align: right;\">\n",
       "      <th></th>\n",
       "      <th>ua_ph</th>\n",
       "      <th>ua_spec_grav</th>\n",
       "      <th>age</th>\n",
       "      <th>chief_complaint_ABDOMINAL PAIN</th>\n",
       "      <th>chief_complaint_ALTERED MENTAL STATUS</th>\n",
       "      <th>chief_complaint_BACK PAIN</th>\n",
       "      <th>chief_complaint_CHEST PAIN</th>\n",
       "      <th>chief_complaint_DIZZINESS</th>\n",
       "      <th>chief_complaint_DYSURIA</th>\n",
       "      <th>chief_complaint_EMESIS</th>\n",
       "      <th>...</th>\n",
       "      <th>SKIN_PREPS</th>\n",
       "      <th>SMOKING_DETERRENTS</th>\n",
       "      <th>THYROID_PREPS</th>\n",
       "      <th>UNCLASSIFIED_DRUG_PRODUCTS</th>\n",
       "      <th>VITAMINS</th>\n",
       "      <th>ua_blood</th>\n",
       "      <th>ua_glucose</th>\n",
       "      <th>ua_ketones</th>\n",
       "      <th>ua_leuk</th>\n",
       "      <th>ua_protein</th>\n",
       "    </tr>\n",
       "  </thead>\n",
       "  <tbody>\n",
       "    <tr>\n",
       "      <th>0</th>\n",
       "      <td>7.5</td>\n",
       "      <td>1.020</td>\n",
       "      <td>83.0</td>\n",
       "      <td>1.0</td>\n",
       "      <td>0.0</td>\n",
       "      <td>0.0</td>\n",
       "      <td>0.0</td>\n",
       "      <td>0.0</td>\n",
       "      <td>0.0</td>\n",
       "      <td>0.0</td>\n",
       "      <td>...</td>\n",
       "      <td>0.0</td>\n",
       "      <td>0.0</td>\n",
       "      <td>0.0</td>\n",
       "      <td>0.0</td>\n",
       "      <td>0.0</td>\n",
       "      <td>0.0</td>\n",
       "      <td>0.0</td>\n",
       "      <td>0.0</td>\n",
       "      <td>1.0</td>\n",
       "      <td>0.0</td>\n",
       "    </tr>\n",
       "    <tr>\n",
       "      <th>2</th>\n",
       "      <td>5.0</td>\n",
       "      <td>1.016</td>\n",
       "      <td>78.0</td>\n",
       "      <td>0.0</td>\n",
       "      <td>1.0</td>\n",
       "      <td>0.0</td>\n",
       "      <td>0.0</td>\n",
       "      <td>0.0</td>\n",
       "      <td>0.0</td>\n",
       "      <td>0.0</td>\n",
       "      <td>...</td>\n",
       "      <td>0.0</td>\n",
       "      <td>0.0</td>\n",
       "      <td>1.0</td>\n",
       "      <td>1.0</td>\n",
       "      <td>0.0</td>\n",
       "      <td>0.0</td>\n",
       "      <td>0.0</td>\n",
       "      <td>0.0</td>\n",
       "      <td>1.0</td>\n",
       "      <td>1.0</td>\n",
       "    </tr>\n",
       "    <tr>\n",
       "      <th>3</th>\n",
       "      <td>5.5</td>\n",
       "      <td>1.016</td>\n",
       "      <td>84.0</td>\n",
       "      <td>0.0</td>\n",
       "      <td>0.0</td>\n",
       "      <td>0.0</td>\n",
       "      <td>0.0</td>\n",
       "      <td>0.0</td>\n",
       "      <td>0.0</td>\n",
       "      <td>0.0</td>\n",
       "      <td>...</td>\n",
       "      <td>0.0</td>\n",
       "      <td>0.0</td>\n",
       "      <td>0.0</td>\n",
       "      <td>0.0</td>\n",
       "      <td>1.0</td>\n",
       "      <td>0.0</td>\n",
       "      <td>0.0</td>\n",
       "      <td>0.0</td>\n",
       "      <td>3.0</td>\n",
       "      <td>1.0</td>\n",
       "    </tr>\n",
       "    <tr>\n",
       "      <th>4</th>\n",
       "      <td>6.0</td>\n",
       "      <td>1.030</td>\n",
       "      <td>55.0</td>\n",
       "      <td>1.0</td>\n",
       "      <td>0.0</td>\n",
       "      <td>0.0</td>\n",
       "      <td>0.0</td>\n",
       "      <td>0.0</td>\n",
       "      <td>0.0</td>\n",
       "      <td>0.0</td>\n",
       "      <td>...</td>\n",
       "      <td>0.0</td>\n",
       "      <td>0.0</td>\n",
       "      <td>0.0</td>\n",
       "      <td>0.0</td>\n",
       "      <td>0.0</td>\n",
       "      <td>0.0</td>\n",
       "      <td>0.0</td>\n",
       "      <td>1.0</td>\n",
       "      <td>1.0</td>\n",
       "      <td>2.0</td>\n",
       "    </tr>\n",
       "    <tr>\n",
       "      <th>5</th>\n",
       "      <td>6.0</td>\n",
       "      <td>1.030</td>\n",
       "      <td>47.0</td>\n",
       "      <td>1.0</td>\n",
       "      <td>0.0</td>\n",
       "      <td>0.0</td>\n",
       "      <td>0.0</td>\n",
       "      <td>0.0</td>\n",
       "      <td>0.0</td>\n",
       "      <td>0.0</td>\n",
       "      <td>...</td>\n",
       "      <td>0.0</td>\n",
       "      <td>0.0</td>\n",
       "      <td>0.0</td>\n",
       "      <td>0.0</td>\n",
       "      <td>0.0</td>\n",
       "      <td>3.0</td>\n",
       "      <td>0.0</td>\n",
       "      <td>3.0</td>\n",
       "      <td>1.0</td>\n",
       "      <td>1.0</td>\n",
       "    </tr>\n",
       "  </tbody>\n",
       "</table>\n",
       "<p>5 rows × 153 columns</p>\n",
       "</div>"
      ],
      "text/plain": [
       "   ua_ph  ua_spec_grav   age  chief_complaint_ABDOMINAL PAIN  \\\n",
       "0    7.5         1.020  83.0                             1.0   \n",
       "2    5.0         1.016  78.0                             0.0   \n",
       "3    5.5         1.016  84.0                             0.0   \n",
       "4    6.0         1.030  55.0                             1.0   \n",
       "5    6.0         1.030  47.0                             1.0   \n",
       "\n",
       "   chief_complaint_ALTERED MENTAL STATUS  chief_complaint_BACK PAIN  \\\n",
       "0                                    0.0                        0.0   \n",
       "2                                    1.0                        0.0   \n",
       "3                                    0.0                        0.0   \n",
       "4                                    0.0                        0.0   \n",
       "5                                    0.0                        0.0   \n",
       "\n",
       "   chief_complaint_CHEST PAIN  chief_complaint_DIZZINESS  \\\n",
       "0                         0.0                        0.0   \n",
       "2                         0.0                        0.0   \n",
       "3                         0.0                        0.0   \n",
       "4                         0.0                        0.0   \n",
       "5                         0.0                        0.0   \n",
       "\n",
       "   chief_complaint_DYSURIA  chief_complaint_EMESIS  ...  SKIN_PREPS  \\\n",
       "0                      0.0                     0.0  ...         0.0   \n",
       "2                      0.0                     0.0  ...         0.0   \n",
       "3                      0.0                     0.0  ...         0.0   \n",
       "4                      0.0                     0.0  ...         0.0   \n",
       "5                      0.0                     0.0  ...         0.0   \n",
       "\n",
       "   SMOKING_DETERRENTS  THYROID_PREPS  UNCLASSIFIED_DRUG_PRODUCTS  VITAMINS  \\\n",
       "0                 0.0            0.0                         0.0       0.0   \n",
       "2                 0.0            1.0                         1.0       0.0   \n",
       "3                 0.0            0.0                         0.0       1.0   \n",
       "4                 0.0            0.0                         0.0       0.0   \n",
       "5                 0.0            0.0                         0.0       0.0   \n",
       "\n",
       "   ua_blood  ua_glucose  ua_ketones  ua_leuk  ua_protein  \n",
       "0       0.0         0.0         0.0      1.0         0.0  \n",
       "2       0.0         0.0         0.0      1.0         1.0  \n",
       "3       0.0         0.0         0.0      3.0         1.0  \n",
       "4       0.0         0.0         1.0      1.0         2.0  \n",
       "5       3.0         0.0         3.0      1.0         1.0  \n",
       "\n",
       "[5 rows x 153 columns]"
      ]
     },
     "execution_count": 10,
     "metadata": {},
     "output_type": "execute_result"
    }
   ],
   "source": [
    "X.head()"
   ]
  },
  {
   "cell_type": "code",
   "execution_count": 11,
   "metadata": {},
   "outputs": [
    {
     "data": {
      "text/html": [
       "<div>\n",
       "<style scoped>\n",
       "    .dataframe tbody tr th:only-of-type {\n",
       "        vertical-align: middle;\n",
       "    }\n",
       "\n",
       "    .dataframe tbody tr th {\n",
       "        vertical-align: top;\n",
       "    }\n",
       "\n",
       "    .dataframe thead th {\n",
       "        text-align: right;\n",
       "    }\n",
       "</style>\n",
       "<table border=\"1\" class=\"dataframe\">\n",
       "  <thead>\n",
       "    <tr style=\"text-align: right;\">\n",
       "      <th></th>\n",
       "      <th>UCX_abnormal</th>\n",
       "      <th>UTI_diag</th>\n",
       "    </tr>\n",
       "  </thead>\n",
       "  <tbody>\n",
       "    <tr>\n",
       "      <th>0</th>\n",
       "      <td>1</td>\n",
       "      <td>1</td>\n",
       "    </tr>\n",
       "    <tr>\n",
       "      <th>2</th>\n",
       "      <td>1</td>\n",
       "      <td>0</td>\n",
       "    </tr>\n",
       "    <tr>\n",
       "      <th>3</th>\n",
       "      <td>1</td>\n",
       "      <td>1</td>\n",
       "    </tr>\n",
       "    <tr>\n",
       "      <th>4</th>\n",
       "      <td>0</td>\n",
       "      <td>0</td>\n",
       "    </tr>\n",
       "    <tr>\n",
       "      <th>5</th>\n",
       "      <td>1</td>\n",
       "      <td>0</td>\n",
       "    </tr>\n",
       "  </tbody>\n",
       "</table>\n",
       "</div>"
      ],
      "text/plain": [
       "   UCX_abnormal  UTI_diag\n",
       "0             1         1\n",
       "2             1         0\n",
       "3             1         1\n",
       "4             0         0\n",
       "5             1         0"
      ]
     },
     "execution_count": 11,
     "metadata": {},
     "output_type": "execute_result"
    }
   ],
   "source": [
    "Y.head()"
   ]
  },
  {
   "cell_type": "markdown",
   "metadata": {},
   "source": [
    "# Training\n"
   ]
  },
  {
   "cell_type": "code",
   "execution_count": 12,
   "metadata": {},
   "outputs": [],
   "source": [
    "X_train, X_test, Y_train, Y_test = train_test_split(X, Y,\n",
    "                                                    test_size=0.2,\n",
    "                                                    random_state=42)\n",
    "y_train, y_test = Y_train[label], Y_test[label]\n",
    "\n",
    "assert y_train.name == label\n",
    "assert y_test.name == label"
   ]
  },
  {
   "cell_type": "code",
   "execution_count": 13,
   "metadata": {},
   "outputs": [],
   "source": [
    "def model_performace(model, X_train, X_test, y_train, y_test,\n",
    "                     ljust_len=30):\n",
    "    print('Training accuracy: {}'.format(\n",
    "        \"%.4f\" % model.score(X_train, y_train)))\n",
    "\n",
    "    male, female = X_test.gender == 1, X_test.gender == 0\n",
    "    print('Test accuracy:\\n\\t{}{}\\n\\t{}{}\\n\\t{}{}'.format(\n",
    "        'General population'.ljust(ljust_len),\n",
    "        \"%.4f\" % model.score(X_test, y_test),\n",
    "        'Male'.ljust(ljust_len),\n",
    "        \"%.4f\" % model.score(X_test[male], y_test[male]),\n",
    "        'Female'.ljust(ljust_len),\n",
    "        \"%.4f\" % model.score(X_test[female], y_test[female])))\n",
    "\n",
    "    employ_cols = X_test.columns[X_test.columns.str.contains('employStatus')]\n",
    "    for employ_col in employ_cols:\n",
    "        rows = X_test[employ_col] == 1\n",
    "        print('\\t{}{}'.format(\n",
    "            employ_col.split('_')[-1].ljust(ljust_len),\n",
    "            \"%.4f\" % model.score(X_test[rows], y_test[rows])))\n",
    "\n",
    "    y_pred = model.predict(X_test)\n",
    "    report = classification_report(y_test, y_pred)\n",
    "    print('\\n', report)"
   ]
  },
  {
   "cell_type": "markdown",
   "metadata": {},
   "source": [
    "### Logistic Regression\n"
   ]
  },
  {
   "cell_type": "code",
   "execution_count": null,
   "metadata": {},
   "outputs": [],
   "source": [
    "model = make_pipeline(MinMaxScaler(),LogisticRegression(n_jobs=-1, max_iter=2000))\n",
    "model.fit(X_train, y_train)"
   ]
  },
  {
   "cell_type": "code",
   "execution_count": null,
   "metadata": {},
   "outputs": [],
   "source": [
    "model_performace(model, X_train, X_test, y_train, y_test)"
   ]
  },
  {
   "cell_type": "markdown",
   "metadata": {},
   "source": [
    "### Naive Bayes\n"
   ]
  },
  {
   "cell_type": "code",
   "execution_count": null,
   "metadata": {},
   "outputs": [],
   "source": [
    "model = make_pipeline(MinMaxScaler(),GaussianNB())\n",
    "model.fit(X_train, y_train)"
   ]
  },
  {
   "cell_type": "code",
   "execution_count": null,
   "metadata": {},
   "outputs": [],
   "source": [
    "model_performace(model, X_train, X_test, y_train, y_test)"
   ]
  },
  {
   "cell_type": "markdown",
   "metadata": {},
   "source": [
    "### kNN\n"
   ]
  },
  {
   "cell_type": "code",
   "execution_count": null,
   "metadata": {},
   "outputs": [],
   "source": [
    "knn = KNeighborsClassifier()\n",
    "param_grid = {'n_neighbors': list(range(1, 21))}\n",
    "grid_search = GridSearchCV(knn, param_grid, cv=5, scoring='accuracy')\n",
    "grid_search.fit(X_train, y_train)\n",
    "best_k = grid_search.best_params_['n_neighbors']\n",
    "best_k"
   ]
  },
  {
   "cell_type": "code",
   "execution_count": null,
   "metadata": {},
   "outputs": [],
   "source": [
    "model = KNeighborsClassifier(n_neighbors=best_k)\n",
    "model.fit(X_train, y_train)\n",
    "model_performace(model, X_train, X_test, y_train, y_test)"
   ]
  },
  {
   "cell_type": "markdown",
   "metadata": {},
   "source": [
    "### MLP\n"
   ]
  },
  {
   "cell_type": "code",
   "execution_count": null,
   "metadata": {},
   "outputs": [],
   "source": [
    "model = MLPClassifier(hidden_layer_sizes=(512, 512, 512),\n",
    "                      max_iter=50, verbose=True)\n",
    "model.fit(X_train, y_train)"
   ]
  },
  {
   "cell_type": "code",
   "execution_count": null,
   "metadata": {},
   "outputs": [],
   "source": [
    "model_performace(model, X_train, X_test, y_train, y_test)"
   ]
  },
  {
   "cell_type": "markdown",
   "metadata": {},
   "source": [
    "### SVM\n"
   ]
  },
  {
   "cell_type": "code",
   "execution_count": null,
   "metadata": {},
   "outputs": [],
   "source": [
    "model = SVC(shrinking=False, verbose=True)\n",
    "model.fit(X_train, y_train)"
   ]
  },
  {
   "cell_type": "code",
   "execution_count": null,
   "metadata": {},
   "outputs": [],
   "source": [
    "model_performace(model, X_train, X_test, y_train, y_test)"
   ]
  },
  {
   "cell_type": "markdown",
   "metadata": {},
   "source": [
    "### Random Forest"
   ]
  },
  {
   "cell_type": "code",
   "execution_count": 21,
   "metadata": {},
   "outputs": [
    {
     "name": "stdout",
     "output_type": "stream",
     "text": [
      "Training accuracy: 0.9989\n",
      "Test accuracy:\n",
      "\tGeneral population            0.8492\n",
      "\tMale                          0.9047\n",
      "\tFemale                        0.8244\n",
      "\tDisabled                      0.8605\n",
      "\tFull Time                     0.8703\n",
      "\tNot Employed                  0.8545\n",
      "\tOn Active Military Duty       1.0000\n",
      "\tPart Time                     0.8301\n",
      "\tRetired                       0.8298\n",
      "\tSelf Employed                 0.8567\n",
      "\tStudent - Full Time           0.8629\n",
      "\tStudent - Part Time           0.8571\n",
      "\tUnknown                       0.8824\n",
      "\n",
      "               precision    recall  f1-score   support\n",
      "\n",
      "           0       0.86      0.96      0.91      9277\n",
      "           1       0.77      0.47      0.58      2682\n",
      "\n",
      "    accuracy                           0.85     11959\n",
      "   macro avg       0.82      0.71      0.74     11959\n",
      "weighted avg       0.84      0.85      0.83     11959\n",
      "\n"
     ]
    }
   ],
   "source": [
    "# no need for scaler\n",
    "model_rf = RandomForestClassifier(n_jobs=-1, random_state=42)\n",
    "model_rf.fit(X_train, y_train)\n",
    "model_performace(model_rf, X_train, X_test, y_train, y_test)"
   ]
  },
  {
   "cell_type": "code",
   "execution_count": null,
   "metadata": {},
   "outputs": [],
   "source": [
    "# dimension reduction for RandomForrest\n",
    "# import plotly.express as px\n",
    "# mmscaler = MinMaxScaler()\n",
    "# X_train_scaled = mmscaler.fit_transform(X_train)\n",
    "# pca = PCA(n_components=100)\n",
    "# X_train_pca = pca.fit_transform(X_train_scaled)\n",
    "\n",
    "# exp_var_cumul = np.cumsum(pca.explained_variance_ratio_)\n",
    "\n",
    "# px.area(\n",
    "#     x=range(1, exp_var_cumul.shape[0] + 1),\n",
    "#     y=exp_var_cumul,\n",
    "#     labels={\"x\": \"# Components\", \"y\": \"Explained Variance\"}\n",
    "# )\n",
    "# pipeline of MinMaxScaler + PCA\n",
    "# model_rf = Pipeline([('mm', MinMaxScaler()),\n",
    "#                  ('pca', PCA(n_components=90)),\n",
    "#                  ('rf', RandomForestClassifier())\n",
    "#                 ])\n",
    "\n",
    "# model_rf.fit(X_train, y_train)\n",
    "# model_performace(model, X_train, X_test, y_train, y_test)\n",
    "# results are the same for no feature engineering"
   ]
  },
  {
   "cell_type": "code",
   "execution_count": 18,
   "metadata": {},
   "outputs": [
    {
     "name": "stdout",
     "output_type": "stream",
     "text": [
      "Training accuracy: 0.9769\n",
      "Test accuracy:\n",
      "\tGeneral population            0.8478\n",
      "\tMale                          0.9075\n",
      "\tFemale                        0.8212\n",
      "\tDisabled                      0.8530\n",
      "\tFull Time                     0.8636\n",
      "\tNot Employed                  0.8538\n",
      "\tOn Active Military Duty       0.5000\n",
      "\tPart Time                     0.8415\n",
      "\tRetired                       0.8295\n",
      "\tSelf Employed                 0.8597\n",
      "\tStudent - Full Time           0.8710\n",
      "\tStudent - Part Time           0.8095\n",
      "\tUnknown                       0.8824\n",
      "\n",
      "               precision    recall  f1-score   support\n",
      "\n",
      "           0       0.87      0.95      0.91      9277\n",
      "           1       0.73      0.51      0.60      2682\n",
      "\n",
      "    accuracy                           0.85     11959\n",
      "   macro avg       0.80      0.73      0.75     11959\n",
      "weighted avg       0.84      0.85      0.84     11959\n",
      "\n"
     ]
    }
   ],
   "source": [
    "# precision on 1 decreased, recall increased\n",
    "param_grid = {\n",
    "    'max_depth': [40,80,None],\n",
    "    'max_features': ['sqrt', 'log2', None],\n",
    "    'min_samples_leaf': [2,3],\n",
    "    'min_samples_split': [2,4,6],\n",
    "    \"n_estimators\" : [300,500],\n",
    "    'n_jobs': [-1]\n",
    "}\n",
    "\n",
    "\n",
    "rf_random = GridSearchCV(estimator = RandomForestClassifier(), scoring = 'f1',param_grid = param_grid, cv = 3)\n",
    "rf_random.fit(X_train, y_train)\n",
    "best_rf = rf_random.best_estimator_\n",
    "model_performace(best_rf, X_train, X_test, y_train, y_test)"
   ]
  },
  {
   "cell_type": "code",
   "execution_count": 22,
   "metadata": {},
   "outputs": [
    {
     "data": {
      "text/plain": [
       "<bound method BaseEstimator.get_params of RandomForestClassifier(max_depth=80, max_features=None, min_samples_leaf=2,\n",
       "                       min_samples_split=4, n_estimators=300, n_jobs=-1)>"
      ]
     },
     "execution_count": 22,
     "metadata": {},
     "output_type": "execute_result"
    }
   ],
   "source": [
    "best_rf.get_params"
   ]
  },
  {
   "cell_type": "code",
   "execution_count": 28,
   "metadata": {},
   "outputs": [
    {
     "data": {
      "image/png": "[encoded data removed]"
     },
     "metadata": {
      "image/png": {
       "height": 480,
       "width": 640
      }
     },
     "output_type": "display_data"
    }
   ],
   "source": [
    "from plotnine import ggplot, aes, geom_bar, labs,geom_point, geom_abline\n",
    "\n",
    "feature_importance = pd.DataFrame({\n",
    "    'Feature': X_train.columns,\n",
    "    'Importance': best_rf.feature_importances_\n",
    "}).sort_values(by='Importance', ascending=False)\n",
    "top_10_features = feature_importance.head(10)\n",
    "# Plot feature importance using plotnine\n",
    "plot = (ggplot(top_10_features, aes(x='Feature', y='Importance')) +\n",
    "        geom_bar(stat='identity') +\n",
    "        labs(title=\"Feature Importance in Random Forest\", x=\"Features\", y=\"Importance\"))\n",
    "plot"
   ]
  },
  {
   "cell_type": "code",
   "execution_count": 30,
   "metadata": {},
   "outputs": [
    {
     "name": "stderr",
     "output_type": "stream",
     "text": [
      "/opt/anaconda3/lib/python3.12/site-packages/numpy/ma/core.py:2820: RuntimeWarning: invalid value encountered in cast\n"
     ]
    },
    {
     "name": "stdout",
     "output_type": "stream",
     "text": [
      "Training accuracy: 0.8911\n",
      "Test accuracy:\n",
      "\tGeneral population            0.8449\n",
      "\tMale                          0.9020\n",
      "\tFemale                        0.8194\n",
      "\tDisabled                      0.8577\n",
      "\tFull Time                     0.8683\n",
      "\tNot Employed                  0.8535\n",
      "\tOn Active Military Duty       1.0000\n",
      "\tPart Time                     0.8267\n",
      "\tRetired                       0.8205\n",
      "\tSelf Employed                 0.8507\n",
      "\tStudent - Full Time           0.8683\n",
      "\tStudent - Part Time           0.8571\n",
      "\tUnknown                       0.7647\n",
      "\n",
      "               precision    recall  f1-score   support\n",
      "\n",
      "           0       0.85      0.97      0.91      9277\n",
      "           1       0.79      0.42      0.55      2682\n",
      "\n",
      "    accuracy                           0.84     11959\n",
      "   macro avg       0.82      0.70      0.73     11959\n",
      "weighted avg       0.84      0.84      0.83     11959\n",
      "\n"
     ]
    }
   ],
   "source": [
    "param_grid = {\n",
    "    'max_depth': [30,40,50],\n",
    "    'max_features': ['sqrt', 'log2'],\n",
    "    'min_samples_leaf': [4,5,6],\n",
    "    'min_samples_split': [4,6,8],\n",
    "    \"n_estimators\" : [100,200,300],\n",
    "    'n_jobs': [-1]\n",
    "}\n",
    "\n",
    "\n",
    "rf_random = GridSearchCV(estimator = RandomForestClassifier(), scoring = 'f1',param_grid = param_grid, cv = 3)\n",
    "rf_random.fit(X_train, y_train)\n",
    "best_rf_2 = rf_random.best_estimator_\n",
    "model_performace(best_rf_2, X_train, X_test, y_train, y_test)"
   ]
  },
  {
   "cell_type": "markdown",
   "metadata": {},
   "source": [
    "### LightGBM"
   ]
  },
  {
   "cell_type": "code",
   "execution_count": null,
   "metadata": {},
   "outputs": [],
   "source": [
    "model_performace(best_rf, X_train, X_test, y_train, y_test)"
   ]
  },
  {
   "cell_type": "code",
   "execution_count": null,
   "metadata": {},
   "outputs": [],
   "source": [
    "param_grid = {\n",
    "\"num_leaves\": [31, 63, 127],\n",
    "\"min_data_in_leaf\": [10,20,30],\n",
    "\"early_stopping_rounds\":[1,3,5],\n",
    "\"max_depth\": [-1, 3, 5],\n",
    "\"max_bin\": [150,200,250,300],\n",
    "\"subsample\": [0.8, 1.0]\n",
    "}\n",
    "model_lgb = LGBMClassifier(device = 'gpu',objective=\"binary\", metric=\"binary_logloss\", random_state=42)\n",
    "\n",
    "grid_search = GridSearchCV(estimator = model_lgb, scoring = 'precision', param_distributions = param_grid, n_iter = 100, cv = 3)\n",
    "grid_search.fit(X_train, y_train)\n",
    "best_lgb = grid_search.best_estimator_\n",
    "model_performace(best_lgb, X_train, X_test, y_train, y_test)"
   ]
  },
  {
   "cell_type": "markdown",
   "metadata": {},
   "source": [
    "# Save Models\n"
   ]
  },
  {
   "cell_type": "code",
   "execution_count": null,
   "metadata": {},
   "outputs": [],
   "source": [
    "# models = {}"
   ]
  },
  {
   "cell_type": "code",
   "execution_count": null,
   "metadata": {},
   "outputs": [],
   "source": [
    "# # Store model results\n",
    "# models['logistic regression'] = {\n",
    "#     'model': model,\n",
    "#     'training accuracy': model.score(X_train, y_train),\n",
    "#     'test accuracy': model.score(X_test, y_test),\n",
    "#     'precision': precision_score(y_test, y_pred),\n",
    "#     'recall': recall_score(y_test, y_pred),\n",
    "#     'f1': f1_score(y_test, y_pred)\n",
    "# }"
   ]
  },
  {
   "cell_type": "code",
   "execution_count": null,
   "metadata": {},
   "outputs": [],
   "source": [
    "# # Save models to local file\n",
    "# with open('model_performances.pkl', 'wb') as f:\n",
    "#     pickle.dump(models, f)"
   ]
  }
 ],
 "metadata": {
  "kernelspec": {
   "display_name": "Python 3 (ipykernel)",
   "language": "python",
   "name": "python3"
  },
  "language_info": {
   "codemirror_mode": {
    "name": "ipython",
    "version": 3
   },
   "file_extension": ".py",
   "mimetype": "text/x-python",
   "name": "python",
   "nbconvert_exporter": "python",
   "pygments_lexer": "ipython3",
   "version": "3.12.4"
  }
 },
 "nbformat": 4,
 "nbformat_minor": 4
}
