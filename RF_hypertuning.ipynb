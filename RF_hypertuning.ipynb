{
 "cells": [
  {
   "cell_type": "code",
   "execution_count": null,
   "id": "d650070a-e06c-4c3b-8523-453d1e4b0397",
   "metadata": {},
   "outputs": [],
   "source": [
    "param_grid = {\n",
    "    'max_depth': [40,80,None],\n",
    "    'max_features': ['sqrt', 'log2', None],\n",
    "    'min_samples_leaf': [2,3],\n",
    "    'min_samples_split': [2,4,6],\n",
    "    \"n_estimators\" : [300,500],\n",
    "    'n_jobs': [-1]\n",
    "}\n",
    "\n",
    "\n",
    "rf_random = GridSearchCV(estimator = RandomForestClassifier(), scoring = 'f1',param_grid = param_grid, cv = 3)\n",
    "rf_random.fit(X_train, y_train)\n",
    "best_rf = rf_random.best_estimator_\n",
    "model_performace(best_rf, X_train, X_test, y_train, y_test)"
   ]
  }
 ],
 "metadata": {
  "kernelspec": {
   "display_name": "Python 3 (ipykernel)",
   "language": "python",
   "name": "python3"
  },
  "language_info": {
   "codemirror_mode": {
    "name": "ipython",
    "version": 3
   },
   "file_extension": ".py",
   "mimetype": "text/x-python",
   "name": "python",
   "nbconvert_exporter": "python",
   "pygments_lexer": "ipython3",
   "version": "3.12.4"
  }
 },
 "nbformat": 4,
 "nbformat_minor": 5
}
